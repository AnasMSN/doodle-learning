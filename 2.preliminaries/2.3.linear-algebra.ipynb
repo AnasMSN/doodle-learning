{
 "cells": [
  {
   "cell_type": "code",
   "execution_count": 1,
   "id": "a8f6da61",
   "metadata": {},
   "outputs": [],
   "source": [
    "import torch"
   ]
  },
  {
   "cell_type": "code",
   "execution_count": 2,
   "id": "ac99306d",
   "metadata": {},
   "outputs": [
    {
     "data": {
      "text/plain": [
       "(tensor(3.), tensor(2.), tensor(5.), tensor(0.4000))"
      ]
     },
     "execution_count": 2,
     "metadata": {},
     "output_type": "execute_result"
    }
   ],
   "source": [
    "# scalars\n",
    "\n",
    "x1 = torch.tensor(3.0)\n",
    "x2 = torch.tensor(2.0)\n",
    "\n",
    "x3 = x1 + x2\n",
    "\n",
    "x1, x2, x3, x2 / x3"
   ]
  },
  {
   "cell_type": "code",
   "execution_count": 3,
   "id": "f0acd2cb",
   "metadata": {},
   "outputs": [
    {
     "data": {
      "text/plain": [
       "tensor([0, 1, 2])"
      ]
     },
     "execution_count": 3,
     "metadata": {},
     "output_type": "execute_result"
    }
   ],
   "source": [
    "x = torch.arange(3)\n",
    "x"
   ]
  },
  {
   "cell_type": "code",
   "execution_count": 4,
   "id": "b64cea4b",
   "metadata": {},
   "outputs": [
    {
     "data": {
      "text/plain": [
       "torch.Size([3])"
      ]
     },
     "execution_count": 4,
     "metadata": {},
     "output_type": "execute_result"
    }
   ],
   "source": [
    "x[2]\n",
    "len(x)\n",
    "x.shape"
   ]
  },
  {
   "cell_type": "code",
   "execution_count": 5,
   "id": "f80433f7",
   "metadata": {},
   "outputs": [
    {
     "data": {
      "text/plain": [
       "tensor([[0, 1],\n",
       "        [2, 3],\n",
       "        [4, 5]])"
      ]
     },
     "execution_count": 5,
     "metadata": {},
     "output_type": "execute_result"
    }
   ],
   "source": [
    "A = torch.arange(6).reshape(3,2)\n",
    "A"
   ]
  },
  {
   "cell_type": "code",
   "execution_count": 6,
   "id": "0589a4d8",
   "metadata": {},
   "outputs": [
    {
     "data": {
      "text/plain": [
       "tensor([[0, 2, 4],\n",
       "        [1, 3, 5]])"
      ]
     },
     "execution_count": 6,
     "metadata": {},
     "output_type": "execute_result"
    }
   ],
   "source": [
    "A.T"
   ]
  },
  {
   "cell_type": "code",
   "execution_count": 7,
   "id": "d4a0c628",
   "metadata": {},
   "outputs": [
    {
     "data": {
      "text/plain": [
       "tensor([[True, True, True],\n",
       "        [True, True, True],\n",
       "        [True, True, True]])"
      ]
     },
     "execution_count": 7,
     "metadata": {},
     "output_type": "execute_result"
    }
   ],
   "source": [
    "A = torch.tensor([[1, 2, 3], [2, 0, 4], [3, 4, 5]])\n",
    "A == A.T"
   ]
  },
  {
   "cell_type": "code",
   "execution_count": 8,
   "id": "ccfa70c6",
   "metadata": {},
   "outputs": [
    {
     "data": {
      "text/plain": [
       "tensor([[[ 0,  1,  2,  3],\n",
       "         [ 4,  5,  6,  7],\n",
       "         [ 8,  9, 10, 11]],\n",
       "\n",
       "        [[12, 13, 14, 15],\n",
       "         [16, 17, 18, 19],\n",
       "         [20, 21, 22, 23]]])"
      ]
     },
     "execution_count": 8,
     "metadata": {},
     "output_type": "execute_result"
    }
   ],
   "source": [
    "torch.arange(24).reshape(2, 3, 4)"
   ]
  },
  {
   "cell_type": "code",
   "execution_count": 9,
   "id": "2ebae1a7",
   "metadata": {},
   "outputs": [
    {
     "data": {
      "text/plain": [
       "(tensor([[0., 1.],\n",
       "         [2., 3.],\n",
       "         [4., 5.]]),\n",
       " tensor([[ 0.,  2.],\n",
       "         [ 4.,  6.],\n",
       "         [ 8., 10.]]),\n",
       " tensor([[ 0.,  1.],\n",
       "         [ 4.,  9.],\n",
       "         [16., 25.]]),\n",
       " tensor([[ 0.,  2.],\n",
       "         [ 4.,  6.],\n",
       "         [ 8., 10.]]),\n",
       " tensor([[2., 3.],\n",
       "         [4., 5.],\n",
       "         [6., 7.]]),\n",
       " torch.Size([3, 2]))"
      ]
     },
     "execution_count": 9,
     "metadata": {},
     "output_type": "execute_result"
    }
   ],
   "source": [
    "A = torch.arange(6, dtype=torch.float32).reshape(3, 2)\n",
    "B = A.clone()\n",
    "A, A + B, A * B, A * 2, A + 2, (A * 2).shape "
   ]
  },
  {
   "cell_type": "code",
   "execution_count": 10,
   "id": "9ef7280a",
   "metadata": {},
   "outputs": [
    {
     "data": {
      "text/plain": [
       "(tensor([[0., 1.],\n",
       "         [2., 3.],\n",
       "         [4., 5.],\n",
       "         [6., 7.]]),\n",
       " tensor(28.),\n",
       " tensor(3.5000),\n",
       " tensor(2.4495),\n",
       " torch.Size([4, 2]),\n",
       " tensor([12., 16.]),\n",
       " tensor([ 1.,  5.,  9., 13.]),\n",
       " tensor(28.),\n",
       " tensor(True))"
      ]
     },
     "execution_count": 10,
     "metadata": {},
     "output_type": "execute_result"
    }
   ],
   "source": [
    "x = torch.arange(8, dtype=torch.float32).reshape(4, 2)\n",
    "x, x.sum(), x.mean(), x.std(), x.shape, x.sum(axis=0), x.sum(axis=1), x.sum(axis=[0,1]), x.sum(axis=[0,1]) == x.sum()"
   ]
  },
  {
   "cell_type": "code",
   "execution_count": 11,
   "id": "316e2de3",
   "metadata": {},
   "outputs": [
    {
     "data": {
      "text/plain": [
       "(tensor(3.5000), tensor(3.5000), 8, tensor(28.))"
      ]
     },
     "execution_count": 11,
     "metadata": {},
     "output_type": "execute_result"
    }
   ],
   "source": [
    "x.mean(), x.sum() / x.numel(), x.numel(), x.sum()"
   ]
  },
  {
   "cell_type": "code",
   "execution_count": 12,
   "id": "4c4c910a",
   "metadata": {},
   "outputs": [
    {
     "data": {
      "text/plain": [
       "(tensor([3., 4.]), tensor([3., 4.]))"
      ]
     },
     "execution_count": 12,
     "metadata": {},
     "output_type": "execute_result"
    }
   ],
   "source": [
    "x.mean(axis=0), x.sum(axis=0) / x.shape[0]"
   ]
  },
  {
   "cell_type": "code",
   "execution_count": 18,
   "id": "ed483a47",
   "metadata": {},
   "outputs": [
    {
     "data": {
      "text/plain": [
       "(tensor([[ 1.],\n",
       "         [ 5.],\n",
       "         [ 9.],\n",
       "         [13.]]),\n",
       " torch.Size([4, 1]),\n",
       " tensor([ 1.,  5.,  9., 13.]),\n",
       " tensor([[0., 1.],\n",
       "         [2., 3.],\n",
       "         [4., 5.],\n",
       "         [6., 7.]]),\n",
       " tensor([ 1.,  5.,  9., 13.]))"
      ]
     },
     "execution_count": 18,
     "metadata": {},
     "output_type": "execute_result"
    }
   ],
   "source": [
    "sum_A = x.sum(axis=1, keepdim=True)\n",
    "sum_B = x.sum(axis=1)\n",
    "sum_A, sum_A.shape, sum_B, x, x.sum(axis=1, keepdim=False)"
   ]
  },
  {
   "cell_type": "code",
   "execution_count": 19,
   "id": "88c8e8e7",
   "metadata": {},
   "outputs": [
    {
     "data": {
      "text/plain": [
       "tensor([[0.0000, 1.0000],\n",
       "        [0.4000, 0.6000],\n",
       "        [0.4444, 0.5556],\n",
       "        [0.4615, 0.5385]])"
      ]
     },
     "execution_count": 19,
     "metadata": {},
     "output_type": "execute_result"
    }
   ],
   "source": [
    "x / sum_A"
   ]
  },
  {
   "cell_type": "code",
   "execution_count": 21,
   "id": "a0889387",
   "metadata": {},
   "outputs": [
    {
     "data": {
      "text/plain": [
       "tensor([[ 0.,  1.],\n",
       "        [ 2.,  4.],\n",
       "        [ 6.,  9.],\n",
       "        [12., 16.]])"
      ]
     },
     "execution_count": 21,
     "metadata": {},
     "output_type": "execute_result"
    }
   ],
   "source": [
    "x.cumsum(axis=0)"
   ]
  },
  {
   "cell_type": "code",
   "execution_count": 38,
   "id": "5d6e89a9",
   "metadata": {},
   "outputs": [
    {
     "data": {
      "text/plain": [
       "(tensor([0., 1., 2.]),\n",
       " tensor([1., 1., 1.]),\n",
       " tensor(3.),\n",
       " tensor([0., 1., 2.]),\n",
       " tensor(3.))"
      ]
     },
     "execution_count": 38,
     "metadata": {},
     "output_type": "execute_result"
    }
   ],
   "source": [
    "# dot or inner product\n",
    "x = torch.arange(3, dtype=torch.float32)\n",
    "y = torch.ones(3, dtype=torch.float32)\n",
    "x, y, torch.dot(x, y), x * y, torch.sum(x * y)"
   ]
  },
  {
   "cell_type": "code",
   "execution_count": 39,
   "id": "33a3448f",
   "metadata": {},
   "outputs": [
    {
     "data": {
      "text/plain": [
       "(tensor([[0., 1., 2.],\n",
       "         [3., 4., 5.]]),\n",
       " tensor([0., 1., 2.]),\n",
       " torch.Size([2, 3]),\n",
       " torch.Size([3]),\n",
       " tensor([ 5., 14.]),\n",
       " tensor([ 5., 14.]),\n",
       " tensor([[ 0.,  1.,  4.],\n",
       "         [ 0.,  4., 10.]]))"
      ]
     },
     "execution_count": 39,
     "metadata": {},
     "output_type": "execute_result"
    }
   ],
   "source": [
    "A = torch.arange(6, dtype=torch.float32).reshape(2, 3)\n",
    "A, x, A.shape, x.shape, torch.mv(A, x), A@x, A * x"
   ]
  },
  {
   "cell_type": "code",
   "execution_count": 43,
   "id": "9a57d857",
   "metadata": {},
   "outputs": [
    {
     "data": {
      "text/plain": [
       "(tensor([[0., 1., 2.],\n",
       "         [3., 4., 5.]]),\n",
       " tensor([[1., 1., 1., 1.],\n",
       "         [1., 1., 1., 1.],\n",
       "         [1., 1., 1., 1.]]),\n",
       " torch.Size([2, 3]),\n",
       " torch.Size([3, 4]),\n",
       " tensor([[ 3.,  3.,  3.,  3.],\n",
       "         [12., 12., 12., 12.]]))"
      ]
     },
     "execution_count": 43,
     "metadata": {},
     "output_type": "execute_result"
    }
   ],
   "source": [
    "B = torch.ones(3,4)\n",
    "A, B, A.shape, B.shape, A @ B"
   ]
  },
  {
   "cell_type": "code",
   "execution_count": null,
   "id": "d2769978",
   "metadata": {},
   "outputs": [
    {
     "data": {
      "text/plain": [
       "(tensor(5.), tensor(7.), tensor(5.), tensor(4.))"
      ]
     },
     "execution_count": 46,
     "metadata": {},
     "output_type": "execute_result"
    }
   ],
   "source": [
    "# norm or manhattan distance -> calculate the magnitude of a vector\n",
    "u = torch.tensor([3.0, -4.0])\n",
    "torch.norm(u), torch.norm(u, p=1), torch.norm(u, p=2), torch.norm(u, p=float('inf'))"
   ]
  },
  {
   "cell_type": "code",
   "execution_count": 48,
   "id": "54bc0331",
   "metadata": {},
   "outputs": [
    {
     "data": {
      "text/plain": [
       "tensor(7.)"
      ]
     },
     "execution_count": 48,
     "metadata": {},
     "output_type": "execute_result"
    }
   ],
   "source": [
    "# l1 norm\n",
    "torch.abs(u).sum()"
   ]
  },
  {
   "cell_type": "code",
   "execution_count": 54,
   "id": "370d581c",
   "metadata": {},
   "outputs": [
    {
     "data": {
      "text/plain": [
       "tensor(6.)"
      ]
     },
     "execution_count": 54,
     "metadata": {},
     "output_type": "execute_result"
    }
   ],
   "source": [
    "# frobenius norm -> normalize all the scalar values in a tensor\n",
    "torch.norm(torch.ones(4, 9))"
   ]
  },
  {
   "cell_type": "code",
   "execution_count": null,
   "id": "87231b42",
   "metadata": {},
   "outputs": [
    {
     "data": {
      "text/plain": [
       "tensor(3.2566)"
      ]
     },
     "execution_count": 60,
     "metadata": {},
     "output_type": "execute_result"
    }
   ],
   "source": [
    "#spectra norm\n",
    "A = torch.tensor([[3.0, 0.0], [0.0, 2.0]])\n",
    "torch.linalg.norm(A, ord=2)  # largest singular value"
   ]
  }
 ],
 "metadata": {
  "kernelspec": {
   "display_name": "anas_env",
   "language": "python",
   "name": "python3"
  },
  "language_info": {
   "codemirror_mode": {
    "name": "ipython",
    "version": 3
   },
   "file_extension": ".py",
   "mimetype": "text/x-python",
   "name": "python",
   "nbconvert_exporter": "python",
   "pygments_lexer": "ipython3",
   "version": "3.11.9"
  }
 },
 "nbformat": 4,
 "nbformat_minor": 5
}
