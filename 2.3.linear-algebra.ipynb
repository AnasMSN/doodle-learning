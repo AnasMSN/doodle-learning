{
 "cells": [
  {
   "cell_type": "code",
   "execution_count": 1,
   "id": "a8f6da61",
   "metadata": {},
   "outputs": [],
   "source": [
    "import torch"
   ]
  },
  {
   "cell_type": "code",
   "execution_count": 2,
   "id": "ac99306d",
   "metadata": {},
   "outputs": [
    {
     "data": {
      "text/plain": [
       "(tensor(3.), tensor(2.), tensor(5.), tensor(0.4000))"
      ]
     },
     "execution_count": 2,
     "metadata": {},
     "output_type": "execute_result"
    }
   ],
   "source": [
    "# scalars\n",
    "\n",
    "x1 = torch.tensor(3.0)\n",
    "x2 = torch.tensor(2.0)\n",
    "\n",
    "x3 = x1 + x2\n",
    "\n",
    "x1, x2, x3, x2 / x3"
   ]
  },
  {
   "cell_type": "code",
   "execution_count": 3,
   "id": "f0acd2cb",
   "metadata": {},
   "outputs": [
    {
     "data": {
      "text/plain": [
       "tensor([0, 1, 2])"
      ]
     },
     "execution_count": 3,
     "metadata": {},
     "output_type": "execute_result"
    }
   ],
   "source": [
    "x = torch.arange(3)\n",
    "x"
   ]
  },
  {
   "cell_type": "code",
   "execution_count": 4,
   "id": "b64cea4b",
   "metadata": {},
   "outputs": [
    {
     "data": {
      "text/plain": [
       "torch.Size([3])"
      ]
     },
     "execution_count": 4,
     "metadata": {},
     "output_type": "execute_result"
    }
   ],
   "source": [
    "x[2]\n",
    "len(x)\n",
    "x.shape"
   ]
  },
  {
   "cell_type": "code",
   "execution_count": 5,
   "id": "f80433f7",
   "metadata": {},
   "outputs": [
    {
     "data": {
      "text/plain": [
       "tensor([[0, 1],\n",
       "        [2, 3],\n",
       "        [4, 5]])"
      ]
     },
     "execution_count": 5,
     "metadata": {},
     "output_type": "execute_result"
    }
   ],
   "source": [
    "A = torch.arange(6).reshape(3,2)\n",
    "A"
   ]
  },
  {
   "cell_type": "code",
   "execution_count": 6,
   "id": "0589a4d8",
   "metadata": {},
   "outputs": [
    {
     "data": {
      "text/plain": [
       "tensor([[0, 2, 4],\n",
       "        [1, 3, 5]])"
      ]
     },
     "execution_count": 6,
     "metadata": {},
     "output_type": "execute_result"
    }
   ],
   "source": [
    "A.T"
   ]
  },
  {
   "cell_type": "code",
   "execution_count": 7,
   "id": "d4a0c628",
   "metadata": {},
   "outputs": [
    {
     "data": {
      "text/plain": [
       "tensor([[True, True, True],\n",
       "        [True, True, True],\n",
       "        [True, True, True]])"
      ]
     },
     "execution_count": 7,
     "metadata": {},
     "output_type": "execute_result"
    }
   ],
   "source": [
    "A = torch.tensor([[1, 2, 3], [2, 0, 4], [3, 4, 5]])\n",
    "A == A.T"
   ]
  },
  {
   "cell_type": "code",
   "execution_count": 8,
   "id": "ccfa70c6",
   "metadata": {},
   "outputs": [
    {
     "data": {
      "text/plain": [
       "tensor([[[ 0,  1,  2,  3],\n",
       "         [ 4,  5,  6,  7],\n",
       "         [ 8,  9, 10, 11]],\n",
       "\n",
       "        [[12, 13, 14, 15],\n",
       "         [16, 17, 18, 19],\n",
       "         [20, 21, 22, 23]]])"
      ]
     },
     "execution_count": 8,
     "metadata": {},
     "output_type": "execute_result"
    }
   ],
   "source": [
    "torch.arange(24).reshape(2, 3, 4)"
   ]
  },
  {
   "cell_type": "code",
   "execution_count": 9,
   "id": "2ebae1a7",
   "metadata": {},
   "outputs": [
    {
     "data": {
      "text/plain": [
       "(tensor([[0., 1.],\n",
       "         [2., 3.],\n",
       "         [4., 5.]]),\n",
       " tensor([[ 0.,  2.],\n",
       "         [ 4.,  6.],\n",
       "         [ 8., 10.]]),\n",
       " tensor([[ 0.,  1.],\n",
       "         [ 4.,  9.],\n",
       "         [16., 25.]]),\n",
       " tensor([[ 0.,  2.],\n",
       "         [ 4.,  6.],\n",
       "         [ 8., 10.]]),\n",
       " tensor([[2., 3.],\n",
       "         [4., 5.],\n",
       "         [6., 7.]]),\n",
       " torch.Size([3, 2]))"
      ]
     },
     "execution_count": 9,
     "metadata": {},
     "output_type": "execute_result"
    }
   ],
   "source": [
    "A = torch.arange(6, dtype=torch.float32).reshape(3, 2)\n",
    "B = A.clone()\n",
    "A, A + B, A * B, A * 2, A + 2, (A * 2).shape "
   ]
  },
  {
   "cell_type": "code",
   "execution_count": 17,
   "id": "9ef7280a",
   "metadata": {},
   "outputs": [
    {
     "data": {
      "text/plain": [
       "(tensor([[0., 1.],\n",
       "         [2., 3.],\n",
       "         [4., 5.],\n",
       "         [6., 7.]]),\n",
       " tensor(28.),\n",
       " tensor(3.5000),\n",
       " tensor(2.4495),\n",
       " torch.Size([4, 2]),\n",
       " tensor([12., 16.]),\n",
       " tensor([ 1.,  5.,  9., 13.]),\n",
       " tensor(28.),\n",
       " tensor(True))"
      ]
     },
     "execution_count": 17,
     "metadata": {},
     "output_type": "execute_result"
    }
   ],
   "source": [
    "x = torch.arange(8, dtype=torch.float32).reshape(4, 2)\n",
    "x, x.sum(), x.mean(), x.std(), x.shape, x.sum(axis=0), x.sum(axis=1), x.sum(axis=[0,1]), x.sum(axis=[0,1]) == x.sum()"
   ]
  },
  {
   "cell_type": "code",
   "execution_count": 20,
   "id": "316e2de3",
   "metadata": {},
   "outputs": [
    {
     "data": {
      "text/plain": [
       "(tensor(3.5000), tensor(3.5000), 8, tensor(28.))"
      ]
     },
     "execution_count": 20,
     "metadata": {},
     "output_type": "execute_result"
    }
   ],
   "source": [
    "x.mean(), x.sum() / x.numel(), x.numel(), x.sum()"
   ]
  },
  {
   "cell_type": "code",
   "execution_count": null,
   "id": "4c4c910a",
   "metadata": {},
   "outputs": [],
   "source": [
    "x.mean(axis=0). x.sum(axis=0) / x.shape[0]"
   ]
  }
 ],
 "metadata": {
  "kernelspec": {
   "display_name": "anas_env",
   "language": "python",
   "name": "python3"
  },
  "language_info": {
   "codemirror_mode": {
    "name": "ipython",
    "version": 3
   },
   "file_extension": ".py",
   "mimetype": "text/x-python",
   "name": "python",
   "nbconvert_exporter": "python",
   "pygments_lexer": "ipython3",
   "version": "3.11.9"
  }
 },
 "nbformat": 4,
 "nbformat_minor": 5
}
