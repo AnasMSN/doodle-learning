{
 "cells": [
  {
   "cell_type": "code",
   "execution_count": 2,
   "id": "ef379c7b",
   "metadata": {},
   "outputs": [],
   "source": [
    "import torch"
   ]
  },
  {
   "cell_type": "code",
   "execution_count": 9,
   "id": "1af057a7",
   "metadata": {},
   "outputs": [
    {
     "data": {
      "text/plain": [
       "tensor([ 0.,  1.,  2.,  3.,  4.,  5.,  6.,  7.,  8.,  9., 10., 11., 12., 13.,\n",
       "        14.], dtype=torch.float16)"
      ]
     },
     "execution_count": 9,
     "metadata": {},
     "output_type": "execute_result"
    }
   ],
   "source": [
    "x = torch.arange(15, dtype=torch.float16)\n",
    "x"
   ]
  },
  {
   "cell_type": "code",
   "execution_count": 12,
   "id": "013b82fa",
   "metadata": {},
   "outputs": [
    {
     "data": {
      "text/plain": [
       "torch.Size([15])"
      ]
     },
     "execution_count": 12,
     "metadata": {},
     "output_type": "execute_result"
    }
   ],
   "source": [
    "x.numel()\n",
    "x.shape"
   ]
  },
  {
   "cell_type": "code",
   "execution_count": 16,
   "id": "61d26b56",
   "metadata": {},
   "outputs": [
    {
     "data": {
      "text/plain": [
       "tensor([[[ 0.,  1.,  2.,  3.,  4.]],\n",
       "\n",
       "        [[ 5.,  6.,  7.,  8.,  9.]],\n",
       "\n",
       "        [[10., 11., 12., 13., 14.]]], dtype=torch.float16)"
      ]
     },
     "execution_count": 16,
     "metadata": {},
     "output_type": "execute_result"
    }
   ],
   "source": [
    "x = x.reshape(3, 1, -1)\n",
    "x"
   ]
  },
  {
   "cell_type": "code",
   "execution_count": 18,
   "id": "4b698f3e",
   "metadata": {},
   "outputs": [
    {
     "data": {
      "text/plain": [
       "tensor([[-0.1624, -1.2329,  0.5889, -0.6708, -0.5115,  1.2340],\n",
       "        [-0.3128, -0.1304,  0.8473,  0.7862,  1.6915,  0.1688],\n",
       "        [-0.4110,  0.1870, -0.9228,  0.5538, -0.3205, -0.3975]])"
      ]
     },
     "execution_count": 18,
     "metadata": {},
     "output_type": "execute_result"
    }
   ],
   "source": [
    "x = torch.randn(3,6)\n",
    "x"
   ]
  },
  {
   "cell_type": "code",
   "execution_count": 25,
   "id": "21459217",
   "metadata": {},
   "outputs": [
    {
     "data": {
      "text/plain": [
       "(tensor([-0.3128, -0.1304,  0.8473,  0.7862,  1.6915,  0.1688]),\n",
       " tensor([[-0.3128, -0.1304,  0.8473,  0.7862,  1.6915,  0.1688],\n",
       "         [-0.4110,  0.1870, -0.9228,  0.5538, -0.3205, -0.3975]]),\n",
       " tensor([[-0.3128, -0.1304,  0.8473,  0.7862,  1.6915,  0.1688]]))"
      ]
     },
     "execution_count": 25,
     "metadata": {},
     "output_type": "execute_result"
    }
   ],
   "source": [
    "x[1], x[1:3], x[1:-1]"
   ]
  },
  {
   "cell_type": "code",
   "execution_count": 28,
   "id": "496851ca",
   "metadata": {},
   "outputs": [
    {
     "data": {
      "text/plain": [
       "tensor([[-0.1624, -1.2329,  0.5889, -0.6708, -0.5115,  1.2340],\n",
       "        [-0.3128, -0.1304, 17.0000,  0.7862,  1.6915,  0.1688],\n",
       "        [-0.4110,  0.1870, -0.9228,  0.5538, -0.3205, -0.3975]])"
      ]
     },
     "execution_count": 28,
     "metadata": {},
     "output_type": "execute_result"
    }
   ],
   "source": [
    "x[1,2] = 17\n",
    "x"
   ]
  },
  {
   "cell_type": "code",
   "execution_count": 32,
   "id": "918ab484",
   "metadata": {},
   "outputs": [
    {
     "data": {
      "text/plain": [
       "tensor([[12.0000, 12.0000, 12.0000, 12.0000, 12.0000, 12.0000],\n",
       "        [12.0000, 12.0000, 12.0000, 12.0000, 12.0000, 12.0000],\n",
       "        [-0.4110,  0.1870, -0.9228,  0.5538, -0.3205, -0.3975]])"
      ]
     },
     "execution_count": 32,
     "metadata": {},
     "output_type": "execute_result"
    }
   ],
   "source": [
    "x[:2, :] = 12\n",
    "x"
   ]
  },
  {
   "cell_type": "code",
   "execution_count": 34,
   "id": "2ab36dea",
   "metadata": {},
   "outputs": [
    {
     "data": {
      "text/plain": [
       "tensor([[1.6275e+05, 1.6275e+05, 1.6275e+05, 1.6275e+05, 1.6275e+05, 1.6275e+05],\n",
       "        [1.6275e+05, 1.6275e+05, 1.6275e+05, 1.6275e+05, 1.6275e+05, 1.6275e+05],\n",
       "        [6.6300e-01, 1.2057e+00, 3.9742e-01, 1.7399e+00, 7.2579e-01, 6.7203e-01]])"
      ]
     },
     "execution_count": 34,
     "metadata": {},
     "output_type": "execute_result"
    }
   ],
   "source": [
    "torch.exp(x)"
   ]
  },
  {
   "cell_type": "code",
   "execution_count": 36,
   "id": "80eaa40c",
   "metadata": {},
   "outputs": [
    {
     "data": {
      "text/plain": [
       "(tensor([3, 4, 5, 6]),\n",
       " tensor([-1,  0,  1,  2]),\n",
       " tensor([2, 4, 6, 8]),\n",
       " tensor([0.5000, 1.0000, 1.5000, 2.0000]))"
      ]
     },
     "execution_count": 36,
     "metadata": {},
     "output_type": "execute_result"
    }
   ],
   "source": [
    "x = torch.tensor([1,2,3,4])\n",
    "y = torch.tensor([2,2,2,2])\n",
    "\n",
    "x + y, x - y, x * y, x / y"
   ]
  },
  {
   "cell_type": "code",
   "execution_count": 41,
   "id": "eaa6ec1c",
   "metadata": {},
   "outputs": [
    {
     "data": {
      "text/plain": [
       "(tensor([[ 0.,  1.,  2.,  3.,  4.],\n",
       "         [ 5.,  6.,  7.,  8.,  9.],\n",
       "         [10., 11., 12., 13., 14.],\n",
       "         [ 1.,  2.,  3.,  4.,  1.],\n",
       "         [ 4.,  3.,  2.,  1.,  1.],\n",
       "         [ 5.,  4.,  3.,  2.,  1.]], dtype=torch.float16),\n",
       " tensor([[ 0.,  1.,  2.,  3.,  4.,  1.,  2.,  3.,  4.,  1.],\n",
       "         [ 5.,  6.,  7.,  8.,  9.,  4.,  3.,  2.,  1.,  1.],\n",
       "         [10., 11., 12., 13., 14.,  5.,  4.,  3.,  2.,  1.]],\n",
       "        dtype=torch.float16))"
      ]
     },
     "execution_count": 41,
     "metadata": {},
     "output_type": "execute_result"
    }
   ],
   "source": [
    "x = torch.arange(15, dtype=torch.float16).reshape(3,5)\n",
    "y = torch.tensor([[1,2,3,4,1], [4,3,2,1,1], [5,4,3,2,1]])\n",
    "torch.cat((x,y), dim=0), torch.cat((x,y), dim=1)"
   ]
  },
  {
   "cell_type": "code",
   "execution_count": 43,
   "id": "2f2e3a1f",
   "metadata": {},
   "outputs": [
    {
     "data": {
      "text/plain": [
       "tensor([[False, False, False, False, False],\n",
       "        [False, False, False, False, False],\n",
       "        [False, False, False, False, False]])"
      ]
     },
     "execution_count": 43,
     "metadata": {},
     "output_type": "execute_result"
    }
   ],
   "source": [
    "x == y"
   ]
  },
  {
   "cell_type": "code",
   "execution_count": 70,
   "id": "ee869760",
   "metadata": {},
   "outputs": [
    {
     "data": {
      "text/plain": [
       "(tensor([[0],\n",
       "         [1],\n",
       "         [2],\n",
       "         [3],\n",
       "         [4],\n",
       "         [5],\n",
       "         [6],\n",
       "         [7],\n",
       "         [8]]),\n",
       " tensor([[0, 1]]))"
      ]
     },
     "execution_count": 70,
     "metadata": {},
     "output_type": "execute_result"
    }
   ],
   "source": [
    "a = torch.arange(9).reshape((9,1))\n",
    "b = torch.arange(2).reshape((1,2))\n",
    "a,b"
   ]
  },
  {
   "cell_type": "code",
   "execution_count": 61,
   "id": "c83189e6",
   "metadata": {},
   "outputs": [
    {
     "data": {
      "text/plain": [
       "tensor([[0, 1],\n",
       "        [1, 2],\n",
       "        [2, 3],\n",
       "        [3, 4],\n",
       "        [4, 5],\n",
       "        [5, 6],\n",
       "        [6, 7],\n",
       "        [7, 8],\n",
       "        [8, 9]])"
      ]
     },
     "execution_count": 61,
     "metadata": {},
     "output_type": "execute_result"
    }
   ],
   "source": [
    "a + b"
   ]
  },
  {
   "cell_type": "code",
   "execution_count": 62,
   "id": "a2285ed2",
   "metadata": {},
   "outputs": [
    {
     "data": {
      "text/plain": [
       "False"
      ]
     },
     "execution_count": 62,
     "metadata": {},
     "output_type": "execute_result"
    }
   ],
   "source": [
    "before = id(b)\n",
    "b = b + a\n",
    "id(b) == before"
   ]
  },
  {
   "cell_type": "code",
   "execution_count": 64,
   "id": "75c1475c",
   "metadata": {},
   "outputs": [
    {
     "name": "stdout",
     "output_type": "stream",
     "text": [
      "id(Z): 140037343397072\n",
      "id(Z): 140037343397072\n"
     ]
    }
   ],
   "source": [
    "Z = torch.zeros_like(b)\n",
    "print('id(Z):', id(Z))\n",
    "Z[:] = b+a\n",
    "print('id(Z):', id(Z))"
   ]
  },
  {
   "cell_type": "code",
   "execution_count": 75,
   "id": "253caf37",
   "metadata": {},
   "outputs": [
    {
     "data": {
      "text/plain": [
       "True"
      ]
     },
     "execution_count": 75,
     "metadata": {},
     "output_type": "execute_result"
    }
   ],
   "source": [
    "a = torch.arange(9).reshape((9,1))\n",
    "b = torch.arange(2).reshape((1,2))\n",
    "before = id(Z)\n",
    "Z += a\n",
    "\n",
    "before == id(Z)"
   ]
  },
  {
   "cell_type": "code",
   "execution_count": 76,
   "id": "803ced42",
   "metadata": {},
   "outputs": [
    {
     "data": {
      "text/plain": [
       "(numpy.ndarray, torch.Tensor)"
      ]
     },
     "execution_count": 76,
     "metadata": {},
     "output_type": "execute_result"
    }
   ],
   "source": [
    "A = a.numpy()\n",
    "B = torch.from_numpy(A)\n",
    "type(A), type(B)"
   ]
  },
  {
   "cell_type": "code",
   "execution_count": 77,
   "id": "fb2147cd",
   "metadata": {},
   "outputs": [
    {
     "data": {
      "text/plain": [
       "(tensor([3.9000]), 3.9000000953674316, 3.9000000953674316, 3)"
      ]
     },
     "execution_count": 77,
     "metadata": {},
     "output_type": "execute_result"
    }
   ],
   "source": [
    "a = torch.tensor([3.9])\n",
    "a, a.item(), float(a), int(a)"
   ]
  }
 ],
 "metadata": {
  "kernelspec": {
   "display_name": "anas_env",
   "language": "python",
   "name": "python3"
  },
  "language_info": {
   "codemirror_mode": {
    "name": "ipython",
    "version": 3
   },
   "file_extension": ".py",
   "mimetype": "text/x-python",
   "name": "python",
   "nbconvert_exporter": "python",
   "pygments_lexer": "ipython3",
   "version": "3.11.9"
  }
 },
 "nbformat": 4,
 "nbformat_minor": 5
}
